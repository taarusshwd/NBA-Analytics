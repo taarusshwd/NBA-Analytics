{
 "cells": [
  {
   "cell_type": "code",
   "execution_count": null,
   "id": "529101e1-e9f5-4f1f-8f3f-3fd84fe7eb2c",
   "metadata": {},
   "outputs": [],
   "source": [
    "import pandas as pd\n",
    "import numpy as np "
   ]
  },
  {
   "cell_type": "code",
   "execution_count": null,
   "id": "9453cf06-e287-422a-ad52-8bb4956dcf1b",
   "metadata": {},
   "outputs": [],
   "source": [
    "from sklearn.cluster import KMeans"
   ]
  },
  {
   "cell_type": "code",
   "execution_count": null,
   "id": "675964bc-ffd3-49b1-b135-28db87d843e8",
   "metadata": {},
   "outputs": [],
   "source": [
    "import matplotlib.pyplot as plt\n",
    "plt.style.use('ggplot')"
   ]
  },
  {
   "cell_type": "code",
   "execution_count": null,
   "id": "fb98e1e8-f9e7-4411-bfc0-36134a4efe1c",
   "metadata": {},
   "outputs": [],
   "source": [
    "# import all the data\n",
    "\n",
    "df = pd.read_csv(\"../data/data.csv\")"
   ]
  },
  {
   "cell_type": "code",
   "execution_count": null,
   "id": "723e7d3c-1415-472a-a87b-bc6e291cac6f",
   "metadata": {},
   "outputs": [],
   "source": [
    "df.head(10)"
   ]
  },
  {
   "cell_type": "code",
   "execution_count": null,
   "id": "d6596a5f-c937-4733-8c0d-c07878571d61",
   "metadata": {},
   "outputs": [],
   "source": [
    "#to get which year the player is in and create Year column\n",
    "\n",
    "i = 0\n",
    "while (i < len(df)):\n",
    "    if(df.loc[i, 'NBA'] == 0 or df.loc[i, 'Season'] == 'Career'):\n",
    "        df.loc[i, 'Year'] = 0\n",
    "    else:\n",
    "        j = i\n",
    "        yrno = 1\n",
    "        while(df.loc[j, 'Name'] == df.loc[i, 'Name'] and df.loc[j, 'NBA'] == 1 and df.loc[j, 'Season'] != 'Career'):\n",
    "            df.loc[j, 'Year'] = yrno\n",
    "            if(df.loc[j, 'Season'] == df.loc[j + 1, 'Season']):\n",
    "                yrno -= 1\n",
    "            yrno += 1\n",
    "            j += 1\n",
    "        i = j - 1\n",
    "    i += 1"
   ]
  },
  {
   "cell_type": "code",
   "execution_count": null,
   "id": "2b8a40f0-98e0-4fb8-bd9b-31311d7f1ea7",
   "metadata": {},
   "outputs": [],
   "source": [
    "#join stats for players who got traded in between season\n",
    "\n",
    "i = 0\n",
    "while (i < len(df)-1):\n",
    "    if(df.loc[i, 'Season'] == df.loc[i+1, 'Season'] and df.loc[i, 'Name'] == df.loc[i+1, 'Name']):\n",
    "        df.loc[i, 'Team'] = df.loc[i, 'Team'] + \"/\" + df.loc[i+1, 'Team']\n",
    "        df.loc[i, 'MIN'] = (df.loc[i, 'MIN']*df.loc[i, 'GP'] + df.loc[i+1, 'MIN']*df.loc[i+1, 'GP'])/(df.loc[i, 'GP'] + df.loc[i+1, 'GP'])\n",
    "        df.loc[i, 'FG'] = (df.loc[i, 'FG']*df.loc[i, 'GP'] + df.loc[i+1, 'FG']*df.loc[i+1, 'GP'])/(df.loc[i, 'GP'] + df.loc[i+1, 'GP'])\n",
    "        df.loc[i, 'FGA'] = (df.loc[i, 'FGA']*df.loc[i, 'GP'] + df.loc[i+1, 'FGA']*df.loc[i+1, 'GP'])/(df.loc[i, 'GP'] + df.loc[i+1, 'GP'])\n",
    "        df.loc[i, '3PT'] = (df.loc[i, '3PT']*df.loc[i, 'GP'] + df.loc[i+1, '3PT']*df.loc[i+1, 'GP'])/(df.loc[i, 'GP'] + df.loc[i+1, 'GP'])\n",
    "        df.loc[i, '3PTA'] = (df.loc[i, '3PTA']*df.loc[i, 'GP'] + df.loc[i+1, '3PTA']*df.loc[i+1, 'GP'])/(df.loc[i, 'GP'] + df.loc[i+1, 'GP'])\n",
    "        df.loc[i, 'FT'] = (df.loc[i, 'FT']*df.loc[i, 'GP'] + df.loc[i+1, 'FT']*df.loc[i+1, 'GP'])/(df.loc[i, 'GP'] + df.loc[i+1, 'GP'])\n",
    "        df.loc[i, 'FTA'] = (df.loc[i, 'FTA']*df.loc[i, 'GP'] + df.loc[i+1, 'FTA']*df.loc[i+1, 'GP'])/(df.loc[i, 'GP'] + df.loc[i+1, 'GP'])\n",
    "        df.loc[i, 'OR'] = (df.loc[i, 'OR']*df.loc[i, 'GP'] + df.loc[i+1, 'OR']*df.loc[i+1, 'GP'])/(df.loc[i, 'GP'] + df.loc[i+1, 'GP'])\n",
    "        df.loc[i, 'DR'] = (df.loc[i, 'DR']*df.loc[i, 'GP'] + df.loc[i+1, 'DR']*df.loc[i+1, 'GP'])/(df.loc[i, 'GP'] + df.loc[i+1, 'GP'])\n",
    "        df.loc[i, 'AST'] = (df.loc[i, 'AST']*df.loc[i, 'GP'] + df.loc[i+1, 'AST']*df.loc[i+1, 'GP'])/(df.loc[i, 'GP'] + df.loc[i+1, 'GP'])\n",
    "        df.loc[i, 'BLK'] = (df.loc[i, 'BLK']*df.loc[i, 'GP'] + df.loc[i+1, 'BLK']*df.loc[i+1, 'GP'])/(df.loc[i, 'GP'] + df.loc[i+1, 'GP'])\n",
    "        df.loc[i, 'STL'] = (df.loc[i, 'STL']*df.loc[i, 'GP'] + df.loc[i+1, 'STL']*df.loc[i+1, 'GP'])/(df.loc[i, 'GP'] + df.loc[i+1, 'GP'])\n",
    "        df.loc[i, 'PF'] = (df.loc[i, 'PF']*df.loc[i, 'GP'] + df.loc[i+1, 'PF']*df.loc[i+1, 'GP'])/(df.loc[i, 'GP'] + df.loc[i+1, 'GP'])\n",
    "        df.loc[i, 'PTS'] = (df.loc[i, 'PTS']*df.loc[i, 'GP'] + df.loc[i+1, 'PTS']*df.loc[i+1, 'GP'])/(df.loc[i, 'GP'] + df.loc[i+1, 'GP'])\n",
    "        df.loc[i, 'TO'] = (df.loc[i, 'TO']*df.loc[i, 'GP'] + df.loc[i+1, 'TO']*df.loc[i+1, 'GP'])/(df.loc[i, 'GP'] + df.loc[i+1, 'GP'])\n",
    "        df.loc[i, 'GP'] = df.loc[i, 'GP'] + df.loc[i+1, 'GP']\n",
    "        df.loc[i, 'GS'] = df.loc[i, 'GS'] + df.loc[i+1, 'GS']\n",
    "        if(df.loc[i, 'FGA'] != 0):\n",
    "            df.loc[i, 'FG%'] = df.loc[i, 'FG']/df.loc[i, 'FGA'] * 100\n",
    "        else: \n",
    "            df.loc[i, 'FG%'] = 0\n",
    "        if(df.loc[i, '3PTA'] != 0):\n",
    "            df.loc[i, '3P%'] = df.loc[i, '3PT']/df.loc[i, '3PTA'] * 100\n",
    "        else:\n",
    "            df.loc[i, '3P%'] = 0\n",
    "        if(df.loc[i, 'FTA'] != 0):\n",
    "            df.loc[i, 'FT%'] = df.loc[i, 'FT']/df.loc[i, 'FTA'] * 100\n",
    "        else:\n",
    "            df.loc[i, 'FT%'] = 0\n",
    "        df.loc[i, 'REB'] = df.loc[i, 'OR'] + df.loc[i+1, 'DR']\n",
    "        df = df.drop(i + 1)\n",
    "        i += 1\n",
    "    i += 1"
   ]
  },
  {
   "cell_type": "code",
   "execution_count": null,
   "id": "ef9f9567-4c54-4b53-be3f-c7e2bf130764",
   "metadata": {},
   "outputs": [],
   "source": [
    "# Ignore cells below\n",
    "\n",
    "# These cells use all players data and not only players who went to college"
   ]
  },
  {
   "cell_type": "code",
   "execution_count": null,
   "id": "0cec3f97-9d78-4b50-bff9-12264c2c9c3d",
   "metadata": {},
   "outputs": [],
   "source": [
    "df_temp = df.copy()"
   ]
  },
  {
   "cell_type": "code",
   "execution_count": null,
   "id": "0dc38945-6b75-4f5b-8872-8c8bc913fe15",
   "metadata": {},
   "outputs": [],
   "source": [
    "columns = ['GP', 'GS', 'MIN', 'FG', 'FGA', '3PT', '3PTA', 'FT', 'FTA', 'REB', 'AST', 'BLK', 'STL', 'PF', 'TO', 'PTS']"
   ]
  },
  {
   "cell_type": "code",
   "execution_count": null,
   "id": "ed5b103b-24c4-4f73-8cd3-bf06c8671e8c",
   "metadata": {},
   "outputs": [],
   "source": [
    "for column in columns:\n",
    "    for yr in range(1, 19):\n",
    "        maxval = df_temp[df_temp['Year'] == yr][column].max()\n",
    "        minval = df_temp[df_temp['Year'] == yr][column].min()\n",
    "\n",
    "        df_temp.loc[df.Year == yr, column] = (df_temp.loc[df.Year == yr, column] - minval)/(maxval - minval)"
   ]
  },
  {
   "cell_type": "code",
   "execution_count": null,
   "id": "5ed504ee-6dac-4d64-bd1e-bddd759450e7",
   "metadata": {},
   "outputs": [],
   "source": [
    "df_temp = df_temp[(df_temp['NBA'] == 1) & (df_temp['Season'] != 'Career')]"
   ]
  },
  {
   "cell_type": "code",
   "execution_count": null,
   "id": "32c26626-63bf-4aa3-82da-6a7051a9d56a",
   "metadata": {},
   "outputs": [],
   "source": [
    "df_temp[\"Score\"] = df_temp[\"GP\"] + 0.5*df_temp[\"GS\"] + df_temp[\"MIN\"] + df_temp[\"FG\"] + 0.75*df_temp[\"FGA\"] + df_temp[\"FT\"] + 0.75*df_temp[\"FTA\"] + 1.5*df_temp[\"REB\"] + 1.5*df_temp[\"AST\"] + df_temp[\"BLK\"] + df_temp[\"STL\"] - 0.5*df_temp[\"PF\"] - df_temp[\"TO\"] + 1.5*df_temp[\"PTS\"]"
   ]
  },
  {
   "cell_type": "code",
   "execution_count": null,
   "id": "991253fc-5b9d-4699-8b5a-3c80075dddfa",
   "metadata": {},
   "outputs": [],
   "source": [
    "# Best seasons in the league\n",
    "\n",
    "df_temp.nlargest(20, ['Score'])"
   ]
  },
  {
   "cell_type": "code",
   "execution_count": null,
   "id": "92fd36da-d729-4714-be37-4786db3e163c",
   "metadata": {},
   "outputs": [],
   "source": [
    "# Dictionary with all players from college\n",
    "\n",
    "players = {}\n",
    "count = 0\n",
    "\n",
    "for name in nba_df['Name'].unique():\n",
    "    players[count] = name\n",
    "    count += 1\n",
    "\n",
    "print(count)"
   ]
  },
  {
   "cell_type": "code",
   "execution_count": null,
   "id": "36445f3b-7f0a-4aed-9f00-b824a3627b99",
   "metadata": {},
   "outputs": [],
   "source": [
    "# Stop ignoring"
   ]
  },
  {
   "cell_type": "code",
   "execution_count": null,
   "id": "105d0a8c-87ee-46cc-af08-cfbf825d4732",
   "metadata": {},
   "outputs": [],
   "source": [
    "# number of nba players from college\n",
    "\n",
    "len(df[df['NBA'] == 0]['Name'].unique())"
   ]
  },
  {
   "cell_type": "code",
   "execution_count": null,
   "id": "0c2ad81c-5894-4caa-8424-7702b0c8a7af",
   "metadata": {},
   "outputs": [],
   "source": [
    "# get only college players in the league and put in use_df\n",
    "\n",
    "use_df = df.iloc[0:0,:].copy()\n",
    "for name in df[df['NBA'] == 0]['Name'].unique():\n",
    "    use_df = pd.concat([use_df, df[df['Name'] == name]])"
   ]
  },
  {
   "cell_type": "code",
   "execution_count": null,
   "id": "6af2da91-30a6-49c2-bdf4-a26620f650a4",
   "metadata": {},
   "outputs": [],
   "source": [
    "# example of player from college\n",
    "\n",
    "use_df[use_df[\"Name\"] == \"Carmelo Anthony\"]"
   ]
  },
  {
   "cell_type": "code",
   "execution_count": null,
   "id": "8ae47b59-f4e9-4938-8133-d7a59910110a",
   "metadata": {},
   "outputs": [],
   "source": [
    "# normalize every stat with maximum/minimum of each year in the league\n",
    "\n",
    "for column in columns:\n",
    "    for yr in range(1, 19):\n",
    "        maxval = use_df[use_df['Year'] == yr][column].max()\n",
    "        minval = use_df[use_df['Year'] == yr][column].min()\n",
    "\n",
    "        use_df.loc[use_df.Year == yr, column] = (use_df.loc[use_df.Year == yr, column] - minval)/(maxval - minval)"
   ]
  },
  {
   "cell_type": "code",
   "execution_count": null,
   "id": "ddf3b92f-3422-4331-a82a-a2210f4d3927",
   "metadata": {},
   "outputs": [],
   "source": [
    "# get yearly stats from the NBA\n",
    "\n",
    "nba_df = use_df[(use_df['NBA'] == 1) & (use_df['Season'] != 'Career')]"
   ]
  },
  {
   "cell_type": "code",
   "execution_count": null,
   "id": "94bc81c9-894a-49f8-9304-a6509f58ea8a",
   "metadata": {},
   "outputs": [],
   "source": [
    "# create new column to get a score for each season\n",
    "# takes different weights for each stat based on importance I've given to them\n",
    "# can be changed to make more sense \n",
    "\n",
    "nba_df[\"Score\"] = nba_df[\"GP\"] + 0.5*nba_df[\"GS\"] + nba_df[\"MIN\"] + nba_df[\"FG\"] + 0.75*nba_df[\"FGA\"] + nba_df[\"FT\"] + 0.75*nba_df[\"FTA\"] + 1.5*nba_df[\"REB\"] + 1.5*nba_df[\"AST\"] + nba_df[\"BLK\"] + nba_df[\"STL\"] - 0.5*nba_df[\"PF\"] - nba_df[\"TO\"] + 1.5*nba_df[\"PTS\"]"
   ]
  },
  {
   "cell_type": "code",
   "execution_count": null,
   "id": "8f1876a4-35cf-45e0-8e22-bd11aea913a8",
   "metadata": {},
   "outputs": [],
   "source": [
    "# get best players from each season of career \n",
    "\n",
    "for yr in range(1, 19):\n",
    "    print(yr, nba_df[nba_df['Score'] == nba_df[nba_df[\"Year\"] == yr]['Score'].max()][\"Name\"])"
   ]
  },
  {
   "cell_type": "code",
   "execution_count": null,
   "id": "d70bac31-f3bf-4ac1-b339-86e583d08d58",
   "metadata": {
    "scrolled": true,
    "tags": []
   },
   "outputs": [],
   "source": [
    "# create a dictionary to have a list of all scores in career \n",
    "\n",
    "careers = {}\n",
    "for name in nba_df['Name'].unique():\n",
    "    temp = nba_df[nba_df['Name'] == name]['Score'].tolist()\n",
    "    careers[name] = temp\n",
    "    \n",
    "careers"
   ]
  },
  {
   "cell_type": "code",
   "execution_count": null,
   "id": "807a8d40-8fb2-4905-8eec-3db20d7840e7",
   "metadata": {},
   "outputs": [],
   "source": [
    "# to get average size of career of players in dataset\n",
    "\n",
    "yrs = np.zeros(427)\n",
    "\n",
    "i = 0\n",
    "for key in careers:\n",
    "    yrs[i] = len(careers[key])\n",
    "    i += 1\n",
    "    \n",
    "yrs.mean()"
   ]
  },
  {
   "cell_type": "code",
   "execution_count": null,
   "id": "0a29d220-e994-4fdc-9c11-6b6c0609618b",
   "metadata": {},
   "outputs": [],
   "source": [
    "# create a dataframe with scores from each season\n",
    "\n",
    "k_df = pd.DataFrame(columns=[\"name\", \"yr1\", \"yr2\", \"yr3\", \"yr4\", \"yr5\"])\n",
    "\n",
    "\n",
    "for key in careers:\n",
    "    if(len(careers[key]) > 4):\n",
    "        k_df = k_df.append({\"name\": key, \"yr1\": careers[key][0], \"yr2\": careers[key][1], \"yr3\": careers[key][2], \"yr4\": careers[key][3], \"yr5\": careers[key][4]}, ignore_index=True)\n",
    "        \n",
    "k_df.head(20)"
   ]
  },
  {
   "cell_type": "code",
   "execution_count": null,
   "id": "9c08928f-7816-4614-97a2-c4412eaebd6f",
   "metadata": {},
   "outputs": [],
   "source": [
    "# assign a cluster to each player in the dataframe using KMeans\n",
    "\n",
    "model = KMeans(n_clusters = 8)\n",
    "features = k_df[['yr1', 'yr2', 'yr3', 'yr4', 'yr5']]\n",
    "fit = model.fit(features)\n",
    "k_df['cluster'] = model.predict(features)\n",
    "k_df.head(20)"
   ]
  },
  {
   "cell_type": "code",
   "execution_count": null,
   "id": "5bd7aa01-73fc-4b25-952a-d8149d766cca",
   "metadata": {},
   "outputs": [],
   "source": [
    "# example of players in a cluster\n",
    "\n",
    "k_df[k_df['cluster'] == 1]"
   ]
  },
  {
   "cell_type": "code",
   "execution_count": null,
   "id": "517fc1e6-7888-433d-9df5-787780b3ba1f",
   "metadata": {},
   "outputs": [],
   "source": [
    "# visualise the careers of players from each cluster \n",
    "\n",
    "plt.figure(figsize=(16, 8)) \n",
    "\n",
    "for i in range(1, 9):\n",
    "    plt.subplot(2, 4, i)\n",
    "    temp = k_df[k_df['cluster'] == i - 1][['yr1', 'yr2', 'yr3', 'yr4', 'yr5']]\n",
    "    plt.plot(temp.T)\n",
    "    plt.tight_layout()\n",
    "    plt.xticks(fontsize = 20)\n",
    "    plt.ylim([0, 10])\n",
    "    plt.yticks(fontsize = 20)\n",
    "    plt.title(\"Cluster \" + str(i), fontsize = 25)\n",
    "    plt.ylabel(\"Score\", fontsize = 20)"
   ]
  },
  {
   "cell_type": "code",
   "execution_count": null,
   "id": "ac9272dc-9c01-47da-8880-b7b2660f2ad8",
   "metadata": {},
   "outputs": [],
   "source": []
  }
 ],
 "metadata": {
  "kernelspec": {
   "display_name": "Python 3",
   "language": "python",
   "name": "python3"
  },
  "language_info": {
   "codemirror_mode": {
    "name": "ipython",
    "version": 3
   },
   "file_extension": ".py",
   "mimetype": "text/x-python",
   "name": "python",
   "nbconvert_exporter": "python",
   "pygments_lexer": "ipython3",
   "version": "3.9.4"
  }
 },
 "nbformat": 4,
 "nbformat_minor": 5
}
